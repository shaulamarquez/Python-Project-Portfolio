{
 "cells": [
  {
   "cell_type": "code",
   "execution_count": 1,
   "metadata": {},
   "outputs": [],
   "source": [
    "import pandas as pd\n",
    "import matplotlib.pyplot as plt"
   ]
  },
  {
   "cell_type": "code",
   "execution_count": 2,
   "metadata": {},
   "outputs": [],
   "source": [
    "df = pd.read_csv('C:/Users/default.ASUS/Downloads/law_firm_sales.csv')"
   ]
  },
  {
   "cell_type": "code",
   "execution_count": 3,
   "metadata": {},
   "outputs": [
    {
     "data": {
      "application/vnd.microsoft.datawrangler.viewer.v0+json": {
       "columns": [
        {
         "name": "index",
         "rawType": "int64",
         "type": "integer"
        },
        {
         "name": "Invoice ID",
         "rawType": "int64",
         "type": "integer"
        },
        {
         "name": "Client Name",
         "rawType": "object",
         "type": "string"
        },
        {
         "name": "Service Type",
         "rawType": "object",
         "type": "string"
        },
        {
         "name": "Case Type",
         "rawType": "object",
         "type": "string"
        },
        {
         "name": "Invoice Date",
         "rawType": "object",
         "type": "string"
        },
        {
         "name": "Hours Billed",
         "rawType": "float64",
         "type": "float"
        },
        {
         "name": "Rate per Hour",
         "rawType": "int64",
         "type": "integer"
        },
        {
         "name": "Total Fees",
         "rawType": "float64",
         "type": "float"
        },
        {
         "name": "Payment Status",
         "rawType": "object",
         "type": "string"
        }
       ],
       "conversionMethod": "pd.DataFrame",
       "ref": "16ee0da8-0034-4491-8bb5-7e6b02e69493",
       "rows": [
        [
         "0",
         "1000",
         "Adam Bolton",
         "Legal Advisory",
         "Family Law",
         "2024-11-08",
         "3.2",
         "350",
         "1120.0",
         "Paid"
        ],
        [
         "1",
         "1001",
         "Michelle Wolfe",
         "Contract Review",
         "Employment Law",
         "2024-04-13",
         "1.4",
         "300",
         "420.0",
         "Paid"
        ],
        [
         "2",
         "1002",
         "Isaac Ochoa",
         "Consultation",
         "Business Law",
         "2025-02-13",
         "7.9",
         "300",
         "2370.0",
         "Paid"
        ],
        [
         "3",
         "1003",
         "Morgan Smith DDS",
         "Litigation",
         "Corporate Law",
         "2024-12-06",
         "9.9",
         "400",
         "3960.0",
         "Paid"
        ],
        [
         "4",
         "1004",
         "Erik Brown",
         "Litigation",
         "Family Law",
         "2025-02-17",
         "3.6",
         "350",
         "1260.0",
         "Paid"
        ]
       ],
       "shape": {
        "columns": 9,
        "rows": 5
       }
      },
      "text/html": [
       "<div>\n",
       "<style scoped>\n",
       "    .dataframe tbody tr th:only-of-type {\n",
       "        vertical-align: middle;\n",
       "    }\n",
       "\n",
       "    .dataframe tbody tr th {\n",
       "        vertical-align: top;\n",
       "    }\n",
       "\n",
       "    .dataframe thead th {\n",
       "        text-align: right;\n",
       "    }\n",
       "</style>\n",
       "<table border=\"1\" class=\"dataframe\">\n",
       "  <thead>\n",
       "    <tr style=\"text-align: right;\">\n",
       "      <th></th>\n",
       "      <th>Invoice ID</th>\n",
       "      <th>Client Name</th>\n",
       "      <th>Service Type</th>\n",
       "      <th>Case Type</th>\n",
       "      <th>Invoice Date</th>\n",
       "      <th>Hours Billed</th>\n",
       "      <th>Rate per Hour</th>\n",
       "      <th>Total Fees</th>\n",
       "      <th>Payment Status</th>\n",
       "    </tr>\n",
       "  </thead>\n",
       "  <tbody>\n",
       "    <tr>\n",
       "      <th>0</th>\n",
       "      <td>1000</td>\n",
       "      <td>Adam Bolton</td>\n",
       "      <td>Legal Advisory</td>\n",
       "      <td>Family Law</td>\n",
       "      <td>2024-11-08</td>\n",
       "      <td>3.2</td>\n",
       "      <td>350</td>\n",
       "      <td>1120.0</td>\n",
       "      <td>Paid</td>\n",
       "    </tr>\n",
       "    <tr>\n",
       "      <th>1</th>\n",
       "      <td>1001</td>\n",
       "      <td>Michelle Wolfe</td>\n",
       "      <td>Contract Review</td>\n",
       "      <td>Employment Law</td>\n",
       "      <td>2024-04-13</td>\n",
       "      <td>1.4</td>\n",
       "      <td>300</td>\n",
       "      <td>420.0</td>\n",
       "      <td>Paid</td>\n",
       "    </tr>\n",
       "    <tr>\n",
       "      <th>2</th>\n",
       "      <td>1002</td>\n",
       "      <td>Isaac Ochoa</td>\n",
       "      <td>Consultation</td>\n",
       "      <td>Business Law</td>\n",
       "      <td>2025-02-13</td>\n",
       "      <td>7.9</td>\n",
       "      <td>300</td>\n",
       "      <td>2370.0</td>\n",
       "      <td>Paid</td>\n",
       "    </tr>\n",
       "    <tr>\n",
       "      <th>3</th>\n",
       "      <td>1003</td>\n",
       "      <td>Morgan Smith DDS</td>\n",
       "      <td>Litigation</td>\n",
       "      <td>Corporate Law</td>\n",
       "      <td>2024-12-06</td>\n",
       "      <td>9.9</td>\n",
       "      <td>400</td>\n",
       "      <td>3960.0</td>\n",
       "      <td>Paid</td>\n",
       "    </tr>\n",
       "    <tr>\n",
       "      <th>4</th>\n",
       "      <td>1004</td>\n",
       "      <td>Erik Brown</td>\n",
       "      <td>Litigation</td>\n",
       "      <td>Family Law</td>\n",
       "      <td>2025-02-17</td>\n",
       "      <td>3.6</td>\n",
       "      <td>350</td>\n",
       "      <td>1260.0</td>\n",
       "      <td>Paid</td>\n",
       "    </tr>\n",
       "  </tbody>\n",
       "</table>\n",
       "</div>"
      ],
      "text/plain": [
       "   Invoice ID       Client Name     Service Type       Case Type Invoice Date  \\\n",
       "0        1000       Adam Bolton   Legal Advisory      Family Law   2024-11-08   \n",
       "1        1001    Michelle Wolfe  Contract Review  Employment Law   2024-04-13   \n",
       "2        1002       Isaac Ochoa     Consultation    Business Law   2025-02-13   \n",
       "3        1003  Morgan Smith DDS       Litigation   Corporate Law   2024-12-06   \n",
       "4        1004        Erik Brown       Litigation      Family Law   2025-02-17   \n",
       "\n",
       "   Hours Billed  Rate per Hour  Total Fees Payment Status  \n",
       "0           3.2            350      1120.0           Paid  \n",
       "1           1.4            300       420.0           Paid  \n",
       "2           7.9            300      2370.0           Paid  \n",
       "3           9.9            400      3960.0           Paid  \n",
       "4           3.6            350      1260.0           Paid  "
      ]
     },
     "execution_count": 3,
     "metadata": {},
     "output_type": "execute_result"
    }
   ],
   "source": [
    "df.head()"
   ]
  },
  {
   "cell_type": "code",
   "execution_count": 4,
   "metadata": {},
   "outputs": [
    {
     "name": "stdout",
     "output_type": "stream",
     "text": [
      "<class 'pandas.core.frame.DataFrame'>\n",
      "RangeIndex: 1000 entries, 0 to 999\n",
      "Data columns (total 9 columns):\n",
      " #   Column          Non-Null Count  Dtype  \n",
      "---  ------          --------------  -----  \n",
      " 0   Invoice ID      1000 non-null   int64  \n",
      " 1   Client Name     1000 non-null   object \n",
      " 2   Service Type    1000 non-null   object \n",
      " 3   Case Type       1000 non-null   object \n",
      " 4   Invoice Date    1000 non-null   object \n",
      " 5   Hours Billed    1000 non-null   float64\n",
      " 6   Rate per Hour   1000 non-null   int64  \n",
      " 7   Total Fees      1000 non-null   float64\n",
      " 8   Payment Status  1000 non-null   object \n",
      "dtypes: float64(2), int64(2), object(5)\n",
      "memory usage: 70.4+ KB\n"
     ]
    }
   ],
   "source": [
    "df.info()"
   ]
  },
  {
   "cell_type": "code",
   "execution_count": 5,
   "metadata": {},
   "outputs": [
    {
     "data": {
      "application/vnd.microsoft.datawrangler.viewer.v0+json": {
       "columns": [
        {
         "name": "index",
         "rawType": "object",
         "type": "string"
        },
        {
         "name": "Invoice ID",
         "rawType": "float64",
         "type": "float"
        },
        {
         "name": "Hours Billed",
         "rawType": "float64",
         "type": "float"
        },
        {
         "name": "Rate per Hour",
         "rawType": "float64",
         "type": "float"
        },
        {
         "name": "Total Fees",
         "rawType": "float64",
         "type": "float"
        }
       ],
       "conversionMethod": "pd.DataFrame",
       "ref": "0a2ecff5-f778-451f-aae1-5fbe3bcbee99",
       "rows": [
        [
         "count",
         "1000.0",
         "1000.0",
         "1000.0",
         "1000.0"
        ],
        [
         "mean",
         "1499.5",
         "5.499700000000001",
         "326.8",
         "1786.37"
        ],
        [
         "std",
         "288.8194360957494",
         "2.6238587127634263",
         "55.72131427797503",
         "903.3861741689872"
        ],
        [
         "min",
         "1000.0",
         "1.0",
         "250.0",
         "250.0"
        ],
        [
         "25%",
         "1249.75",
         "3.2",
         "300.0",
         "1022.5"
        ],
        [
         "50%",
         "1499.5",
         "5.4",
         "350.0",
         "1710.0"
        ],
        [
         "75%",
         "1749.25",
         "7.8",
         "400.0",
         "2452.5"
        ],
        [
         "max",
         "1999.0",
         "10.0",
         "400.0",
         "3960.0"
        ]
       ],
       "shape": {
        "columns": 4,
        "rows": 8
       }
      },
      "text/html": [
       "<div>\n",
       "<style scoped>\n",
       "    .dataframe tbody tr th:only-of-type {\n",
       "        vertical-align: middle;\n",
       "    }\n",
       "\n",
       "    .dataframe tbody tr th {\n",
       "        vertical-align: top;\n",
       "    }\n",
       "\n",
       "    .dataframe thead th {\n",
       "        text-align: right;\n",
       "    }\n",
       "</style>\n",
       "<table border=\"1\" class=\"dataframe\">\n",
       "  <thead>\n",
       "    <tr style=\"text-align: right;\">\n",
       "      <th></th>\n",
       "      <th>Invoice ID</th>\n",
       "      <th>Hours Billed</th>\n",
       "      <th>Rate per Hour</th>\n",
       "      <th>Total Fees</th>\n",
       "    </tr>\n",
       "  </thead>\n",
       "  <tbody>\n",
       "    <tr>\n",
       "      <th>count</th>\n",
       "      <td>1000.000000</td>\n",
       "      <td>1000.000000</td>\n",
       "      <td>1000.000000</td>\n",
       "      <td>1000.000000</td>\n",
       "    </tr>\n",
       "    <tr>\n",
       "      <th>mean</th>\n",
       "      <td>1499.500000</td>\n",
       "      <td>5.499700</td>\n",
       "      <td>326.800000</td>\n",
       "      <td>1786.370000</td>\n",
       "    </tr>\n",
       "    <tr>\n",
       "      <th>std</th>\n",
       "      <td>288.819436</td>\n",
       "      <td>2.623859</td>\n",
       "      <td>55.721314</td>\n",
       "      <td>903.386174</td>\n",
       "    </tr>\n",
       "    <tr>\n",
       "      <th>min</th>\n",
       "      <td>1000.000000</td>\n",
       "      <td>1.000000</td>\n",
       "      <td>250.000000</td>\n",
       "      <td>250.000000</td>\n",
       "    </tr>\n",
       "    <tr>\n",
       "      <th>25%</th>\n",
       "      <td>1249.750000</td>\n",
       "      <td>3.200000</td>\n",
       "      <td>300.000000</td>\n",
       "      <td>1022.500000</td>\n",
       "    </tr>\n",
       "    <tr>\n",
       "      <th>50%</th>\n",
       "      <td>1499.500000</td>\n",
       "      <td>5.400000</td>\n",
       "      <td>350.000000</td>\n",
       "      <td>1710.000000</td>\n",
       "    </tr>\n",
       "    <tr>\n",
       "      <th>75%</th>\n",
       "      <td>1749.250000</td>\n",
       "      <td>7.800000</td>\n",
       "      <td>400.000000</td>\n",
       "      <td>2452.500000</td>\n",
       "    </tr>\n",
       "    <tr>\n",
       "      <th>max</th>\n",
       "      <td>1999.000000</td>\n",
       "      <td>10.000000</td>\n",
       "      <td>400.000000</td>\n",
       "      <td>3960.000000</td>\n",
       "    </tr>\n",
       "  </tbody>\n",
       "</table>\n",
       "</div>"
      ],
      "text/plain": [
       "        Invoice ID  Hours Billed  Rate per Hour   Total Fees\n",
       "count  1000.000000   1000.000000    1000.000000  1000.000000\n",
       "mean   1499.500000      5.499700     326.800000  1786.370000\n",
       "std     288.819436      2.623859      55.721314   903.386174\n",
       "min    1000.000000      1.000000     250.000000   250.000000\n",
       "25%    1249.750000      3.200000     300.000000  1022.500000\n",
       "50%    1499.500000      5.400000     350.000000  1710.000000\n",
       "75%    1749.250000      7.800000     400.000000  2452.500000\n",
       "max    1999.000000     10.000000     400.000000  3960.000000"
      ]
     },
     "execution_count": 5,
     "metadata": {},
     "output_type": "execute_result"
    }
   ],
   "source": [
    "df.describe()"
   ]
  },
  {
   "cell_type": "code",
   "execution_count": 6,
   "metadata": {},
   "outputs": [
    {
     "data": {
      "text/plain": [
       "Invoice ID        0\n",
       "Client Name       0\n",
       "Service Type      0\n",
       "Case Type         0\n",
       "Invoice Date      0\n",
       "Hours Billed      0\n",
       "Rate per Hour     0\n",
       "Total Fees        0\n",
       "Payment Status    0\n",
       "dtype: int64"
      ]
     },
     "execution_count": 6,
     "metadata": {},
     "output_type": "execute_result"
    }
   ],
   "source": [
    "df.isnull().sum()"
   ]
  },
  {
   "cell_type": "code",
   "execution_count": 7,
   "metadata": {},
   "outputs": [
    {
     "name": "stdout",
     "output_type": "stream",
     "text": [
      "Total Revenue: $1786370.00\n"
     ]
    }
   ],
   "source": [
    "# Total sales\n",
    "total_revenue = df['Total Fees'].sum()\n",
    "print(f\"Total Revenue: ${total_revenue:.2f}\")\n"
   ]
  },
  {
   "cell_type": "code",
   "execution_count": 8,
   "metadata": {},
   "outputs": [],
   "source": [
    "# Monthly sales\n",
    "df['Invoice Date'] = pd.to_datetime(df['Invoice Date'])"
   ]
  },
  {
   "cell_type": "code",
   "execution_count": 9,
   "metadata": {},
   "outputs": [
    {
     "data": {
      "text/plain": [
       "Invoice ID                 int64\n",
       "Client Name               object\n",
       "Service Type              object\n",
       "Case Type                 object\n",
       "Invoice Date      datetime64[ns]\n",
       "Hours Billed             float64\n",
       "Rate per Hour              int64\n",
       "Total Fees               float64\n",
       "Payment Status            object\n",
       "dtype: object"
      ]
     },
     "execution_count": 9,
     "metadata": {},
     "output_type": "execute_result"
    }
   ],
   "source": [
    "df.dtypes"
   ]
  },
  {
   "cell_type": "code",
   "execution_count": 10,
   "metadata": {},
   "outputs": [
    {
     "name": "stdout",
     "output_type": "stream",
     "text": [
      "Year-Month\n",
      "2024-03    105815.0\n",
      "2024-04    156885.0\n",
      "2024-05    157715.0\n",
      "2024-06    131585.0\n",
      "2024-07    131465.0\n",
      "2024-08    137560.0\n",
      "2024-09    162735.0\n",
      "2024-10    140765.0\n",
      "2024-11    136540.0\n",
      "2024-12    161080.0\n",
      "2025-01    172735.0\n",
      "2025-02    155025.0\n",
      "2025-03     36465.0\n",
      "Freq: M, Name: Total Fees, dtype: float64\n"
     ]
    }
   ],
   "source": [
    "# Extract year and month for grouping\n",
    "df['Year-Month'] = df['Invoice Date'].dt.to_period('M')\n",
    "\n",
    "# Group by month and sum Total Fees\n",
    "monthly_revenue = df.groupby('Year-Month')['Total Fees'].sum()\n",
    "\n",
    "# Display the revenue per month\n",
    "print(monthly_revenue)"
   ]
  },
  {
   "cell_type": "code",
   "execution_count": 11,
   "metadata": {},
   "outputs": [
    {
     "data": {
      "image/png": "[encoded data removed]",
      "text/plain": [
       "<Figure size 1200x500 with 1 Axes>"
      ]
     },
     "metadata": {},
     "output_type": "display_data"
    }
   ],
   "source": [
    "# Plot the monthly revenue as a line chart\n",
    "plt.figure(figsize=(12, 5))\n",
    "monthly_revenue.plot(kind='line', marker='o', color='blue', linestyle='-')\n",
    "\n",
    "# Customize the chart\n",
    "plt.title('Monthly Revenue for Law Firm')\n",
    "plt.xlabel('Month')\n",
    "plt.ylabel('Total Revenue ($)')\n",
    "plt.xticks(rotation=45)\n",
    "plt.grid(axis='y', linestyle='--', alpha=0.7)\n",
    "\n",
    "# Show the plot\n",
    "plt.show()"
   ]
  },
  {
   "cell_type": "code",
   "execution_count": 12,
   "metadata": {},
   "outputs": [
    {
     "name": "stdout",
     "output_type": "stream",
     "text": [
      "Total Revenue by Service Type:\n",
      "\n",
      "Consultation: $1760.13\n",
      "Contract Review: $1753.17\n",
      "Estate Planning: $1872.48\n",
      "Legal Advisory: $1759.13\n",
      "Litigation: $1812.77\n",
      "Mediation: $1764.01\n"
     ]
    }
   ],
   "source": [
    "# Group by 'Service Type' and calculate average revenue\n",
    "revenue_by_service = df.groupby('Service Type')['Total Fees'].mean()\n",
    "\n",
    "# Print total revenue per service type correctly\n",
    "print(\"Total Revenue by Service Type:\\n\")\n",
    "for service, revenue in revenue_by_service.items():\n",
    "    print(f\"{service}: ${revenue:.2f}\")"
   ]
  },
  {
   "cell_type": "code",
   "execution_count": 13,
   "metadata": {},
   "outputs": [
    {
     "data": {
      "image/png": "[encoded data removed]",
      "text/plain": [
       "<Figure size 1200x600 with 1 Axes>"
      ]
     },
     "metadata": {},
     "output_type": "display_data"
    }
   ],
   "source": [
    "plt.figure(figsize=(12, 6))\n",
    "revenue_by_service.plot(kind='bar', color='skyblue', edgecolor='black')\n",
    "\n",
    "# Corrected labels\n",
    "plt.title('Revenue by Service Type')\n",
    "plt.xlabel('Service Type')  # X-axis should be Service Type\n",
    "plt.ylabel('Avg Revenue ($)')  # Y-axis should be Avg Revenue\n",
    "\n",
    "# Rotate x-axis labels for better readability\n",
    "plt.xticks(rotation=45)\n",
    "\n",
    "plt.show()"
   ]
  },
  {
   "cell_type": "code",
   "execution_count": 14,
   "metadata": {},
   "outputs": [
    {
     "name": "stdout",
     "output_type": "stream",
     "text": [
      "\n",
      "Payment Status Distribution:\n",
      "Payment Status\n",
      "Paid       699\n",
      "Pending    188\n",
      "Overdue    113\n",
      "Name: count, dtype: int64\n"
     ]
    }
   ],
   "source": [
    "# Payment Status Distribution\n",
    "payment_status_counts = df['Payment Status'].value_counts()\n",
    "print(\"\\nPayment Status Distribution:\")\n",
    "print(payment_status_counts)"
   ]
  },
  {
   "cell_type": "code",
   "execution_count": 16,
   "metadata": {},
   "outputs": [
    {
     "data": {
      "image/png": "[encoded data removed]",
      "text/plain": [
       "<Figure size 800x800 with 1 Axes>"
      ]
     },
     "metadata": {},
     "output_type": "display_data"
    }
   ],
   "source": [
    "plt.figure(figsize=(8, 8))\n",
    "payment_status_counts.plot(kind='pie', autopct='%1.1f%%', startangle=90, colors=['skyblue', 'orange', 'lightgreen'])\n",
    "plt.title('Payment Status Distribution')\n",
    "plt.show()"
   ]
  }
 ],
 "metadata": {
  "kernelspec": {
   "display_name": "Python 3",
   "language": "python",
   "name": "python3"
  },
  "language_info": {
   "codemirror_mode": {
    "name": "ipython",
    "version": 3
   },
   "file_extension": ".py",
   "mimetype": "text/x-python",
   "name": "python",
   "nbconvert_exporter": "python",
   "pygments_lexer": "ipython3",
   "version": "3.12.4"
  }
 },
 "nbformat": 4,
 "nbformat_minor": 2
}
